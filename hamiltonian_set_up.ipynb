{
 "cells": [
  {
   "cell_type": "code",
   "execution_count": 1,
   "id": "initial_id",
   "metadata": {
    "collapsed": true,
    "ExecuteTime": {
     "end_time": "2023-10-06T08:25:23.984051Z",
     "start_time": "2023-10-06T08:25:23.184915Z"
    }
   },
   "outputs": [],
   "source": [
    "import numpy as np\n",
    "import scipy as sc\n",
    "from scipy import sparse\n",
    "\n",
    "Id = np.identity(2)\n",
    "sig_x = np.array([[0,1],[1,0]])"
   ]
  },
  {
   "cell_type": "code",
   "execution_count": 2,
   "outputs": [],
   "source": [
    "def sigma_xi(i,n):\n",
    "    M0 = [1]\n",
    "    M1 = sig_x\n",
    "    \n",
    "    for j in range(0,i-1):\n",
    "        M0 = sparse.kron(M0,Id).toarray()\n",
    "    \n",
    "    for k in range(i,n):\n",
    "        M1 = sparse.kron(M1,Id).toarray()\n",
    "        \n",
    "    M = sparse.kron(M0,M1).toarray()\n",
    "    \n",
    "    return M"
   ],
   "metadata": {
    "collapsed": false,
    "ExecuteTime": {
     "end_time": "2023-10-06T08:25:48.329423Z",
     "start_time": "2023-10-06T08:25:47.906086Z"
    }
   },
   "id": "a1e78fa25549faed"
  },
  {
   "cell_type": "code",
   "execution_count": 3,
   "outputs": [
    {
     "data": {
      "text/plain": "array([[0., 1., 1., 0.],\n       [1., 0., 0., 1.],\n       [1., 0., 0., 1.],\n       [0., 1., 1., 0.]])"
     },
     "execution_count": 3,
     "metadata": {},
     "output_type": "execute_result"
    }
   ],
   "source": [
    "def sum_sigma_xi(n):\n",
    "    M = sigma_xi(1,n)\n",
    "    \n",
    "    for j in range(2,n+1):\n",
    "        M = M + sigma_xi(j,n)\n",
    "        \n",
    "    return M\n",
    "        \n",
    "sum_sigma_xi(2)"
   ],
   "metadata": {
    "collapsed": false,
    "ExecuteTime": {
     "end_time": "2023-10-06T08:26:19.603604Z",
     "start_time": "2023-10-06T08:26:18.456938Z"
    }
   },
   "id": "cd0f3f4eb568dba4"
  },
  {
   "cell_type": "code",
   "execution_count": 55,
   "outputs": [
    {
     "data": {
      "text/plain": "array([[0., 0., 0., 0.],\n       [0., 1., 0., 0.],\n       [0., 0., 1., 0.],\n       [0., 0., 0., 2.]])"
     },
     "execution_count": 55,
     "metadata": {},
     "output_type": "execute_result"
    }
   ],
   "source": [
    "def n_i(n,i):\n",
    "    M0 = [1]\n",
    "    M1 = np.array([[0,0],[0,1]])\n",
    "    \n",
    "    for j in range(0,i-1):\n",
    "        M0 = sparse.kron(M0,Id).toarray()\n",
    "    \n",
    "    for k in range(i,n):\n",
    "        M1 = sparse.kron(M1,Id).toarray()\n",
    "        \n",
    "    M = sparse.kron(M0,M1).toarray()\n",
    "    \n",
    "    return M\n",
    "\n",
    "\n",
    "def sum_n(n):\n",
    "    \n",
    "    dimension = n**2\n",
    "    m = np.zeros((dimension,dimension))\n",
    "    \n",
    "    for j in range(1,n+1):\n",
    "        m = m + n_i(n,j)\n",
    "        \n",
    "    return m\n",
    "\n",
    "sum_n(2)\n"
   ],
   "metadata": {
    "collapsed": false,
    "ExecuteTime": {
     "end_time": "2023-10-06T17:42:03.802183Z",
     "start_time": "2023-10-06T17:42:03.792575Z"
    }
   },
   "id": "475e19b5ede006bb"
  },
  {
   "cell_type": "code",
   "execution_count": 44,
   "outputs": [
    {
     "data": {
      "text/plain": "array([[0., 0., 0., 0.],\n       [0., 0., 0., 0.],\n       [0., 0., 0., 0.],\n       [0., 0., 0., 1.]])"
     },
     "execution_count": 44,
     "metadata": {},
     "output_type": "execute_result"
    }
   ],
   "source": [
    "C_6 = 1\n",
    "a = 1\n",
    "\n",
    "def vdw(n,a,C_6):\n",
    "    \n",
    "    dimension = 2**n\n",
    "    m_vdw = np.zeros((dimension,dimension))\n",
    "    \n",
    "    for i in range(1,n+1):\n",
    "        for k in range(1,i):\n",
    "            r = a*abs(i-k)\n",
    "            v = C_6/r**6\n",
    "            m_ik = v * np.dot(n_i(n,i),n_i(n,k))\n",
    "            m_vdw = m_vdw + m_ik\n",
    "            \n",
    "    return m_vdw\n",
    "\n",
    "vdw(2,1,1)"
   ],
   "metadata": {
    "collapsed": false,
    "ExecuteTime": {
     "end_time": "2023-10-06T17:33:01.939695Z",
     "start_time": "2023-10-06T17:33:01.809266Z"
    }
   },
   "id": "788d9446cad1e7c4"
  },
  {
   "cell_type": "code",
   "execution_count": 60,
   "outputs": [
    {
     "name": "stdout",
     "output_type": "stream",
     "text": [
      "[[0. 0. 0. 0.]\n",
      " [0. 1. 0. 0.]\n",
      " [0. 0. 1. 0.]\n",
      " [0. 0. 0. 2.]]\n"
     ]
    },
    {
     "data": {
      "text/plain": "array([[ 0. ,  0.5,  0.5,  0. ],\n       [ 0.5, -1. ,  0. ,  0.5],\n       [ 0.5,  0. , -1. ,  0.5],\n       [ 0. ,  0.5,  0.5, -1. ]])"
     },
     "execution_count": 60,
     "metadata": {},
     "output_type": "execute_result"
    }
   ],
   "source": [
    "def rydberg_hamiltonian(n, delta, rabi, C_6, a):\n",
    "    h_m = ((rabi/2) * sum_sigma_xi(n)) - (delta*sum_n(n)) + vdw(n,a,C_6) \n",
    "    \n",
    "    return h_m\n",
    "print(sum_n(2))\n",
    "rydberg_hamiltonian(2,1,1,1,1)"
   ],
   "metadata": {
    "collapsed": false,
    "ExecuteTime": {
     "end_time": "2023-10-06T17:44:10.466361Z",
     "start_time": "2023-10-06T17:44:10.402191Z"
    }
   },
   "id": "4d677e63b9f137d5"
  },
  {
   "cell_type": "code",
   "execution_count": 10,
   "outputs": [
    {
     "data": {
      "text/plain": "0.75"
     },
     "execution_count": 10,
     "metadata": {},
     "output_type": "execute_result"
    }
   ],
   "source": [
    "3/2**2"
   ],
   "metadata": {
    "collapsed": false,
    "ExecuteTime": {
     "end_time": "2023-10-06T09:34:04.696824Z",
     "start_time": "2023-10-06T09:34:04.444278Z"
    }
   },
   "id": "ae9748e0082546e"
  },
  {
   "cell_type": "code",
   "execution_count": 14,
   "outputs": [
    {
     "name": "stdout",
     "output_type": "stream",
     "text": [
      "[[0 0 0 0 1 0 0 0]]\n"
     ]
    }
   ],
   "source": [
    "basis_vector = np.array([[0,0,0,0,1,0,0,0]])\n",
    "b = np.array([np.eye(2)[1]]).T\n",
    "print(basis_vector)\n"
   ],
   "metadata": {
    "collapsed": false,
    "ExecuteTime": {
     "end_time": "2023-10-11T10:18:39.114536Z",
     "start_time": "2023-10-11T10:18:39.099785Z"
    }
   },
   "id": "8e77427476c80c2c"
  },
  {
   "cell_type": "code",
   "execution_count": 86,
   "outputs": [
    {
     "name": "stdout",
     "output_type": "stream",
     "text": [
      "[array([[1],\n",
      "       [0]]), array([[1],\n",
      "       [0]])]\n"
     ]
    }
   ],
   "source": [
    "import numpy as np\n",
    "\n",
    "#FINAL\n",
    "def comp_basis_vector_to_qubit_states(basis_vector):\n",
    "    \n",
    "    rows = np.shape(basis_vector)[0]\n",
    "    cols = np.shape(basis_vector)[1]\n",
    "    \n",
    "    # Case for bra vector\n",
    "    if cols > rows:\n",
    "        n = int(np.log2(cols))\n",
    "        \n",
    "        # Convert the basis vector to binary representation\n",
    "        basis_int = int(np.log2(int(''.join(map(str, reversed(basis_vector[0]))), 2)))\n",
    "        binary_rep = format(basis_int, f'0{n}b')\n",
    "        \n",
    "        # Initialize a list to store individual qubit states\n",
    "        qubit_states = []\n",
    "    \n",
    "        # Split the binary representation into n parts\n",
    "        for i in range(n):\n",
    "            qubit_binary = binary_rep[i]  # Get the binary value for the i-th qubit\n",
    "            qubit_states.append(np.array([1 - int(qubit_binary), int(qubit_binary)]))  # Convert to 2D state vector\n",
    "        \n",
    "    # Case for ket vector\n",
    "    if rows > cols:\n",
    "        n = int(np.log2(rows))\n",
    "        \n",
    "        # Convert the basis vector to binary representation\n",
    "        basis_int = int(np.log2(int(''.join(map(str, reversed(basis_vector[:,0]))), 2)))\n",
    "        binary_rep = format(basis_int, f'0{n}b')\n",
    "        \n",
    "        # Initialize a list to store individual qubit states\n",
    "        qubit_states = []\n",
    "    \n",
    "        # Split the binary representation into n parts\n",
    "        for i in range(n):\n",
    "            qubit_binary = binary_rep[i]  # Get the binary value for the i-th qubit\n",
    "            qubit_states += [np.array([[1 - int(qubit_binary), int(qubit_binary)]]).T] # Convert to 2D state vector\n",
    "        \n",
    "\n",
    "    return qubit_states\n",
    "\n",
    "basis_vector = [0,0,0,0,1,0,0,0]\n",
    "basis_vector = np.array([[1,0,0,0]]).T\n",
    "print(comp_basis_vector_to_qubit_states(basis_vector))"
   ],
   "metadata": {
    "collapsed": false,
    "ExecuteTime": {
     "end_time": "2023-10-11T11:26:05.540243Z",
     "start_time": "2023-10-11T11:26:05.452811Z"
    }
   },
   "id": "cb12129785b40a03"
  },
  {
   "cell_type": "code",
   "execution_count": 47,
   "outputs": [
    {
     "name": "stdout",
     "output_type": "stream",
     "text": [
      "11\n"
     ]
    },
    {
     "data": {
      "text/plain": "[[0, 1], [0, 1]]"
     },
     "execution_count": 47,
     "metadata": {},
     "output_type": "execute_result"
    }
   ],
   "source": [
    "def comp_basis_vector_to_qubit_states(basis_vector):\n",
    "    n = int(np.log2(len(basis_vector)))  # Calculate the number of qubits (n)\n",
    "\n",
    "    # Convert the basis vector to binary representation\n",
    "    basis_int = int(np.log2(int(''.join(map(str, reversed(basis_vector))), 2)))\n",
    "    binary_rep = format(basis_int, f'0{n}b')\n",
    "    print(binary_rep)\n",
    "\n",
    "    # Initialize a list to store individual qubit states\n",
    "    qubit_states = []\n",
    "\n",
    "    # Split the binary representation into n parts\n",
    "    for i in range(n):\n",
    "        qubit_binary = binary_rep[i]  # Get the binary value for the i-th qubit\n",
    "        qubit_states.append([1 - int(qubit_binary), int(qubit_binary)])  # Convert to 2D state vector\n",
    "\n",
    "    return qubit_states\n",
    "\n",
    "basis_vector = [0,0,0,1]\n",
    "comp_basis_vector_to_qubit_states(basis_vector)\n"
   ],
   "metadata": {
    "collapsed": false,
    "ExecuteTime": {
     "end_time": "2023-10-11T11:06:31.875319Z",
     "start_time": "2023-10-11T11:06:31.861007Z"
    }
   },
   "id": "569915cc05cec691"
  },
  {
   "cell_type": "code",
   "execution_count": 89,
   "outputs": [
    {
     "data": {
      "text/plain": "861895.71066157"
     },
     "execution_count": 89,
     "metadata": {},
     "output_type": "execute_result"
    }
   ],
   "source": [
    "((10.95**6)*2*np.pi*0.5)/(2*np.pi)"
   ],
   "metadata": {
    "collapsed": false,
    "ExecuteTime": {
     "end_time": "2023-10-14T10:16:09.179984Z",
     "start_time": "2023-10-14T10:16:09.145224Z"
    }
   },
   "id": "c2e201cba74c9788"
  },
  {
   "cell_type": "code",
   "execution_count": 2,
   "outputs": [
    {
     "ename": "NameError",
     "evalue": "name 'np' is not defined",
     "output_type": "error",
     "traceback": [
      "\u001B[0;31m---------------------------------------------------------------------------\u001B[0m",
      "\u001B[0;31mNameError\u001B[0m                                 Traceback (most recent call last)",
      "Cell \u001B[0;32mIn[2], line 2\u001B[0m\n\u001B[1;32m      1\u001B[0m \u001B[38;5;241m862690\u001B[39m\u001B[38;5;241m/\u001B[39m(\u001B[38;5;241m5.48\u001B[39m)\u001B[38;5;241m*\u001B[39m\u001B[38;5;241m*\u001B[39m\u001B[38;5;241m6\u001B[39m\n\u001B[0;32m----> 2\u001B[0m \u001B[38;5;241m1\u001B[39m\u001B[38;5;241m/\u001B[39m(\u001B[38;5;241m2\u001B[39m\u001B[38;5;241m*\u001B[39m\u001B[43mnp\u001B[49m\u001B[38;5;241m.\u001B[39mpi\u001B[38;5;241m*\u001B[39m\u001B[38;5;241m4\u001B[39m)\n",
      "\u001B[0;31mNameError\u001B[0m: name 'np' is not defined"
     ]
    }
   ],
   "source": [
    "862690/(5.48)**6\n",
    "1/(2*np.pi*4)"
   ],
   "metadata": {
    "collapsed": false,
    "ExecuteTime": {
     "end_time": "2023-10-14T11:05:26.070464Z",
     "start_time": "2023-10-14T11:05:26.028659Z"
    }
   },
   "id": "9025b86c15e6f04"
  },
  {
   "cell_type": "code",
   "execution_count": 1,
   "outputs": [
    {
     "ename": "NameError",
     "evalue": "name 'np' is not defined",
     "output_type": "error",
     "traceback": [
      "\u001B[0;31m---------------------------------------------------------------------------\u001B[0m",
      "\u001B[0;31mNameError\u001B[0m                                 Traceback (most recent call last)",
      "Cell \u001B[0;32mIn[1], line 1\u001B[0m\n\u001B[0;32m----> 1\u001B[0m \u001B[38;5;241m1\u001B[39m\u001B[38;5;241m/\u001B[39m(\u001B[38;5;241m2\u001B[39m\u001B[38;5;241m*\u001B[39m\u001B[43mnp\u001B[49m\u001B[38;5;241m.\u001B[39mpi\u001B[38;5;241m*\u001B[39m\u001B[38;5;241m4\u001B[39m)\n",
      "\u001B[0;31mNameError\u001B[0m: name 'np' is not defined"
     ]
    }
   ],
   "source": [
    "1/(2*np.pi*4)"
   ],
   "metadata": {
    "collapsed": false,
    "ExecuteTime": {
     "end_time": "2023-10-14T11:04:59.097017Z",
     "start_time": "2023-10-14T11:04:58.912584Z"
    }
   },
   "id": "33f207f60632cd75"
  },
  {
   "cell_type": "code",
   "execution_count": 3,
   "outputs": [
    {
     "data": {
      "text/plain": "0.039788735772973836"
     },
     "execution_count": 3,
     "metadata": {},
     "output_type": "execute_result"
    }
   ],
   "source": [
    "import numpy as np\n",
    "\n"
   ],
   "metadata": {
    "collapsed": false,
    "ExecuteTime": {
     "end_time": "2023-10-14T11:05:41.448579Z",
     "start_time": "2023-10-14T11:05:41.125645Z"
    }
   },
   "id": "4b499e2b916f6343"
  },
  {
   "cell_type": "code",
   "execution_count": null,
   "outputs": [],
   "source": [],
   "metadata": {
    "collapsed": false
   },
   "id": "b6c6440314c9c4fb"
  }
 ],
 "metadata": {
  "kernelspec": {
   "display_name": "Python 3",
   "language": "python",
   "name": "python3"
  },
  "language_info": {
   "codemirror_mode": {
    "name": "ipython",
    "version": 2
   },
   "file_extension": ".py",
   "mimetype": "text/x-python",
   "name": "python",
   "nbconvert_exporter": "python",
   "pygments_lexer": "ipython2",
   "version": "2.7.6"
  }
 },
 "nbformat": 4,
 "nbformat_minor": 5
}
